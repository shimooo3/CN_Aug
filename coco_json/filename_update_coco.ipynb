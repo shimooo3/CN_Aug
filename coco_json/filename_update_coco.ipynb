{
 "cells": [
  {
   "cell_type": "markdown",
   "metadata": {},
   "source": [
    "COCO.jsonの\"file_name\"を更新するよう"
   ]
  },
  {
   "cell_type": "code",
   "execution_count": null,
   "metadata": {},
   "outputs": [],
   "source": [
    "import json\n",
    "import os\n",
    "\n",
    "json_file_path = \"../AI_aug_gen/__dataset__/02_resize/valid/valid.json\"\n",
    "with open(json_file_path, \"r\") as file:\n",
    "    data = json.load(file)\n",
    "for image in data[\"images\"]:\n",
    "    file_name = image[\"file_name\"]\n",
    "    if not file_name.startswith(\"B\"):\n",
    "        if \"_\" in file_name:\n",
    "            # 最初の\"_\"の位置を取得\n",
    "            first_underscore_index = file_name.find(\"_\")\n",
    "            new_file_name = file_name[:first_underscore_index] + file_name[first_underscore_index+1:]\n",
    "            image[\"file_name\"] = new_file_name\n",
    "            #print(f\"Renamed: {file_name} -> {new_file_name}\")\n",
    "\n",
    "with open(json_file_path, \"w\") as file:\n",
    "    json.dump(data, file, indent=2)"
   ]
  },
  {
   "cell_type": "markdown",
   "metadata": {},
   "source": [
    "一意に番号をファイル名の先頭につける  \n",
    "画像ファイルとjsonの更新"
   ]
  },
  {
   "cell_type": "code",
   "execution_count": null,
   "metadata": {},
   "outputs": [],
   "source": [
    "import json\n",
    "import os\n",
    "\n",
    "num = 3501\n",
    "img_folder_path = \"../AI_aug_gen/__dataset__/05_generate_dataset/00_temp/auto_zero/\"\n",
    "json_file_path = \"../AI_aug_gen/__dataset__/05_generate_dataset/00_temp/auto_zero/auto_zero.json\"\n",
    "\n",
    "with open(json_file_path, \"r\") as file:\n",
    "    data = json.load(file)\n",
    "\n",
    "# Create a dictionary to map old file names to new file names\n",
    "file_name_map = {}\n",
    "count = num\n",
    "for image in data[\"images\"]:\n",
    "    old_file_name = image[\"file_name\"]\n",
    "    new_file_name = str(count)+ \"_\" + old_file_name  # Pad with leading zeros\n",
    "    file_name_map[old_file_name] = new_file_name\n",
    "    image[\"file_name\"] = new_file_name\n",
    "    count += 1\n",
    "\n",
    "# Rename files based on the file name map\n",
    "for old_file_name, new_file_name in file_name_map.items():\n",
    "    old_file_path = os.path.join(img_folder_path, old_file_name)\n",
    "    new_file_path = os.path.join(img_folder_path, new_file_name)\n",
    "    os.rename(old_file_path, new_file_path)\n",
    "\n",
    "with open(json_file_path, \"w\") as file:\n",
    "    json.dump(data, file, indent=2)\n",
    "\n",
    "print(\"done\")"
   ]
  },
  {
   "cell_type": "markdown",
   "metadata": {},
   "source": [
    "pathを更新  \n",
    "coco-annotatorのパスに合わせる"
   ]
  },
  {
   "cell_type": "code",
   "execution_count": null,
   "metadata": {},
   "outputs": [],
   "source": [
    "import json\n",
    "import os\n",
    "\n",
    "json_file_path = \"./valid.json\"\n",
    "coco_folder = \"grape_keypoint_valid_2\"\n",
    "with open(json_file_path, \"r\") as file:\n",
    "    data = json.load(file)\n",
    "for image in data[\"images\"]:\n",
    "    path = image[\"path\"]\n",
    "    file_name = image[\"file_name\"]\n",
    "    new_path = \"/datasets/\"+ coco_folder + \"/\" +file_name\n",
    "    image[\"path\"] = new_path\n",
    "with open(json_file_path, \"w\") as file:\n",
    "    json.dump(data, file, indent=2)"
   ]
  }
 ],
 "metadata": {
  "kernelspec": {
   "display_name": "ymc",
   "language": "python",
   "name": "python3"
  },
  "language_info": {
   "codemirror_mode": {
    "name": "ipython",
    "version": 3
   },
   "file_extension": ".py",
   "mimetype": "text/x-python",
   "name": "python",
   "nbconvert_exporter": "python",
   "pygments_lexer": "ipython3",
   "version": "3.1.undefined"
  }
 },
 "nbformat": 4,
 "nbformat_minor": 2
}
