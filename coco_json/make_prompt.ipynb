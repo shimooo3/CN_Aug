{
 "cells": [
  {
   "cell_type": "code",
   "execution_count": null,
   "metadata": {},
   "outputs": [],
   "source": [
    "import os\n",
    "import json\n",
    "\n",
    "folder_path = '../images/train_t2i/auto_cropped/transfer_reso_ExG/'\n",
    "\n",
    "output_file = folder_path + 'metadata.jsonl'\n",
    "\n",
    "image_files = [f for f in os.listdir(folder_path) if f.lower().endswith(('.png', '.jpg', '.jpeg', '.gif'))]\n",
    "\n",
    "text = \"A photograph of wine vineyard with brown cane and green leaves on a white background.\"\n",
    "json_data = []\n",
    "for file_name in image_files:\n",
    "    json_data.append({\n",
    "        \"file_name\": file_name,\n",
    "        \"text\": text\n",
    "    })\n",
    "\n",
    "with open(output_file, 'w', encoding='utf-8') as f:\n",
    "    for item in json_data:\n",
    "        json.dump(item, f, ensure_ascii=False)\n",
    "        f.write('\\n')\n",
    "\n",
    "print(f\"{len(json_data)}個の画像ファイルに対するJSONデータが{output_file}に保存されました。\")"
   ]
  }
 ],
 "metadata": {
  "kernelspec": {
   "display_name": "ymc",
   "language": "python",
   "name": "python3"
  },
  "language_info": {
   "codemirror_mode": {
    "name": "ipython",
    "version": 3
   },
   "file_extension": ".py",
   "mimetype": "text/x-python",
   "name": "python",
   "nbconvert_exporter": "python",
   "pygments_lexer": "ipython3",
   "version": "3.11.7"
  }
 },
 "nbformat": 4,
 "nbformat_minor": 2
}
