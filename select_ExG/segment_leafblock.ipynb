{
 "cells": [
  {
   "cell_type": "markdown",
   "metadata": {},
   "source": [
    "枝セグメントのうち葉隠れ部分を色変えてマスク画像作成"
   ]
  },
  {
   "cell_type": "code",
   "execution_count": null,
   "metadata": {},
   "outputs": [],
   "source": [
    "# CIVE = 0.441 * R - 0.811 * G + 0.385 * B + 18.78745\n",
    "# cive > 0なら緑\n",
    "# wood(0, 224, 192), leaves(128, 32, 0)\n",
    "\n",
    "import os\n",
    "import cv2\n",
    "import numpy as np\n",
    "import shutil\n",
    "\n",
    "def create_color_mask(image, original_mask):\n",
    "    b, g, r = cv2.split(image)\n",
    "\n",
    "    cive = 0.441 * r - 0.811 * g + 0.385 * b + 18.78745\n",
    "    ExG = 2 * g - r - b\n",
    "\n",
    "    leaf_condition = ((cive > 0) | (ExG < 0))\n",
    "    leaf_mask = leaf_condition & (original_mask > 0)\n",
    "    wood_mask = (~leaf_condition) & (original_mask > 0)\n",
    "\n",
    "    # 出力画像を3チャンネルに変更\n",
    "    result_image = np.zeros_like(image)\n",
    "    \n",
    "    result_image[leaf_mask] = [0, 32, 128]\n",
    "    result_image[wood_mask] = [192, 224, 0]\n",
    "\n",
    "    return result_image\n",
    "\n",
    "def process_images(line2line_path, gendata_path, output_path):\n",
    "    if os.path.exists(output_path):\n",
    "        shutil.rmtree(output_path)\n",
    "    os.makedirs(output_path, exist_ok=True)\n",
    "\n",
    "    for filename in os.listdir(line2line_path):\n",
    "        if filename.endswith('.jpg') or filename.endswith('.png'):\n",
    "            line2line_image_path = os.path.join(line2line_path, filename)\n",
    "            gendata_image_path = os.path.join(gendata_path, filename)\n",
    "\n",
    "            line2line_image = cv2.imread(line2line_image_path, 0)\n",
    "            gendata_image = cv2.imread(gendata_image_path)\n",
    "\n",
    "            mask = np.uint8(line2line_image > 128)\n",
    "\n",
    "            if np.sum(mask) > 0:\n",
    "                colored_mask = create_color_mask(gendata_image, mask)\n",
    "                output_file = os.path.join(output_path, filename)\n",
    "                cv2.imwrite(output_file, colored_mask)\n",
    "    \n",
    "\n",
    "def main():\n",
    "    mask_path = './masks/'\n",
    "    gendata_path = './grape_test/images/'\n",
    "    output_path = './colored_masks/'\n",
    "\n",
    "    process_images(mask_path, gendata_path, output_path)\n",
    "\n",
    "if __name__ == '__main__':\n",
    "    main()"
   ]
  }
 ],
 "metadata": {
  "kernelspec": {
   "display_name": "ymc",
   "language": "python",
   "name": "python3"
  },
  "language_info": {
   "codemirror_mode": {
    "name": "ipython",
    "version": 3
   },
   "file_extension": ".py",
   "mimetype": "text/x-python",
   "name": "python",
   "nbconvert_exporter": "python",
   "pygments_lexer": "ipython3",
   "version": "3.11.7"
  }
 },
 "nbformat": 4,
 "nbformat_minor": 2
}
